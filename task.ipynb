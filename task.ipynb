{
 "cells": [
  {
   "cell_type": "code",
   "execution_count": 262,
   "metadata": {},
   "outputs": [],
   "source": [
    "import os\n",
    "import numpy as np\n",
    "\n",
    "embedding_dim = 100\n",
    "\n",
    "sen_1 = 'Obama speaks to the media in illinois'\n",
    "sen_2 = 'the president speaks the press in chicago'"
   ]
  },
  {
   "cell_type": "markdown",
   "metadata": {},
   "source": [
    "Head to `https://nlp.stanford.edu/projects/glove/` (where you can learn more about the GloVe algorithm), and download the pre-computed \n",
    "embeddings from 2014 English Wikipedia. It's a 822MB zip file named `glove.6B.zip`, containing 100-dimensional embedding vectors for \n",
    "400,000 words (or non-word tokens). Un-zip it."
   ]
  },
  {
   "cell_type": "markdown",
   "metadata": {},
   "source": [
    "### Pre-process the embeddings\n",
    "\n",
    "\n",
    "Let's parse the un-zipped file (it's a `txt` file) to build an index mapping words (as strings) to their vector representation (as number \n",
    "vectors)."
   ]
  },
  {
   "cell_type": "code",
   "execution_count": 263,
   "metadata": {},
   "outputs": [],
   "source": [
    "\n",
    "glove_dir = 'G:/Task/'\n",
    "\n",
    "embeddings_index = {}\n",
    "f = open(os.path.join(glove_dir, 'glove.6B.100d.txt'), encoding=\"utf8\")\n",
    "for line in f:\n",
    "    values = line.split()\n",
    "    word = values[0]\n",
    "    coefs = np.asarray(values[1:], dtype='float32')\n",
    "    embeddings_index[word] = coefs\n",
    "f.close()"
   ]
  },
  {
   "cell_type": "markdown",
   "metadata": {},
   "source": [
    "The text introduces WRD as text similarity algorithms, that use Wasserstein distance (Earth Mover's Distance, bulldozer distance) to directly compare the differences between two indefinite length vectors."
   ]
  },
  {
   "cell_type": "code",
   "execution_count": 264,
   "metadata": {},
   "outputs": [],
   "source": [
    "import time\n",
    "from scipy.optimize import linprog\n",
    "\n",
    "def EMD(p, q, D):\n",
    "    \n",
    "    # wasserstein distance: earth mover’s distance (EMD) \n",
    "    A_eq = []\n",
    "    for i in range(len(p)):\n",
    "        A = np.zeros_like(D)\n",
    "        A[i, :] = 1\n",
    "        A_eq.append(A.reshape(-1))\n",
    "    for i in range(len(q)):\n",
    "        A = np.zeros_like(D)\n",
    "        A[:, i] = 1\n",
    "        A_eq.append(A.reshape(-1))\n",
    "    A_eq = np.array(A_eq)\n",
    "    b_eq = np.concatenate([p, q])\n",
    "    D = D.reshape(-1)\n",
    "    result = linprog(D, A_eq=A_eq[:-1], b_eq=b_eq[:-1])\n",
    "    return result.fun\n",
    "\n",
    "def WRD(x, y): # word rotator distance\n",
    "    \n",
    "    # Determined Norm and Direction of Word Vectors\n",
    "    x_norm = (x**2).sum(axis=1, keepdims=True)**0.5\n",
    "    y_norm = (y**2).sum(axis=1, keepdims=True)**0.5\n",
    "    p = x_norm[:, 0] / x_norm.sum()\n",
    "    q = y_norm[:, 0] / y_norm.sum()\n",
    "    D = 1 - np.dot(x / x_norm, (y / y_norm).T)\n",
    "    wrd = EMD(p, q, D)\n",
    "    \n",
    "    return 1 - wrd # word rotator similarity\n"
   ]
  },
  {
   "cell_type": "markdown",
   "metadata": {},
   "source": [
    "\n",
    "Now let's build an embedding matrix, where each entry `i` contains the `embedding_dim`-dimensional vector for the word of index `i` in our reference word index."
   ]
  },
  {
   "cell_type": "code",
   "execution_count": 265,
   "metadata": {},
   "outputs": [],
   "source": [
    "from keras.preprocessing.text import Tokenizer\n",
    "from keras.preprocessing.sequence import pad_sequences\n",
    "from keras.preprocessing.text import text_to_word_sequence\n",
    "\n",
    "vectors_sen1 = text_to_word_sequence(sen_1)\n",
    "embedding_vector_sen1 = np.zeros((len(vectors_sen1), embedding_dim))\n",
    "\n",
    "vectors_sen2 = text_to_word_sequence(sen_2)\n",
    "embedding_vector_sen2 = np.zeros((len(vectors_sen2), embedding_dim))\n",
    "\n",
    "for i in range(len(vectors_sen1)):\n",
    "  embedding_vector_sen1[i] = embeddings_index.get(vectors_sen1[i])\n",
    "\n",
    "\n",
    "for i in range(len(vectors_sen2)):\n",
    "  embedding_vector_sen2[i] = embeddings_index.get(vectors_sen2[i])\n",
    "\n",
    "similarity = WRD(embedding_vector_sen1, embedding_vector_sen2)\n"
   ]
  },
  {
   "cell_type": "code",
   "execution_count": 266,
   "metadata": {},
   "outputs": [
    {
     "name": "stdout",
     "output_type": "stream",
     "text": [
      "word_rotator_similarity is 0.8120568375979997\n"
     ]
    }
   ],
   "source": [
    "print('word_rotator_similarity is', similarity)"
   ]
  },
  {
   "cell_type": "code",
   "execution_count": null,
   "metadata": {},
   "outputs": [],
   "source": []
  }
 ],
 "metadata": {
  "kernelspec": {
   "display_name": "Python 3",
   "language": "python",
   "name": "python3"
  },
  "language_info": {
   "codemirror_mode": {
    "name": "ipython",
    "version": 3
   },
   "file_extension": ".py",
   "mimetype": "text/x-python",
   "name": "python",
   "nbconvert_exporter": "python",
   "pygments_lexer": "ipython3",
   "version": "3.7.4"
  }
 },
 "nbformat": 4,
 "nbformat_minor": 2
}
